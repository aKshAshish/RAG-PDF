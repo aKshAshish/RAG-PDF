{
 "cells": [
  {
   "cell_type": "code",
   "execution_count": 2,
   "metadata": {},
   "outputs": [
    {
     "data": {
      "text/plain": [
       "True"
      ]
     },
     "execution_count": 2,
     "metadata": {},
     "output_type": "execute_result"
    }
   ],
   "source": [
    "import os\n",
    "from dotenv import load_dotenv\n",
    "\n",
    "load_dotenv()"
   ]
  },
  {
   "cell_type": "code",
   "execution_count": 24,
   "metadata": {},
   "outputs": [],
   "source": [
    "# Process pdf and create splits to be used for vector db\n",
    "\n",
    "from langchain_core.documents import Document\n",
    "from langchain_text_splitters import MarkdownTextSplitter, RecursiveCharacterTextSplitter\n",
    "from langchain.document_loaders import PyMuPDFLoader\n",
    "\n",
    "pdf_path = '../data/gfs.pdf'\n",
    "loader = PyMuPDFLoader(pdf_path)\n",
    "\n",
    "# Create chunks\n",
    "chunk_size = 2000\n",
    "chunk_overlap = 200\n",
    "text_splitter = RecursiveCharacterTextSplitter(\n",
    "    chunk_size=chunk_size, chunk_overlap=chunk_overlap\n",
    ")\n",
    "\n",
    "splits = loader.load_and_split(text_splitter)"
   ]
  },
  {
   "cell_type": "code",
   "execution_count": 32,
   "metadata": {},
   "outputs": [],
   "source": [
    "for split in splits:\n",
    "    split.metadata = {\n",
    "        \"source\": \"Google File System\",\n",
    "        \"page\": split.metadata['page'],\n",
    "        \"total_pages\": split.metadata['total_pages']\n",
    "    }"
   ]
  },
  {
   "cell_type": "code",
   "execution_count": 35,
   "metadata": {},
   "outputs": [
    {
     "data": {
      "text/plain": [
       "Document(metadata={'source': 'Google File System', 'page': 0, 'total_pages': 15}, page_content='The Google File System\\nSanjay Ghemawat, Howard Gobioff, and Shun-Tak Leung\\nGoogle∗\\nABSTRACT\\nWe have designed and implemented the Google File Sys-\\ntem, a scalable distributed ﬁle system for large distributed\\ndata-intensive applications. It provides fault tolerance while\\nrunning on inexpensive commodity hardware, and it delivers\\nhigh aggregate performance to a large number of clients.\\nWhile sharing many of the same goals as previous dis-\\ntributed ﬁle systems, our design has been driven by obser-\\nvations of our application workloads and technological envi-\\nronment, both current and anticipated, that reﬂect a marked\\ndeparture from some earlier ﬁle system assumptions. This\\nhas led us to reexamine traditional choices and explore rad-\\nically diﬀerent design points.\\nThe ﬁle system has successfully met our storage needs.\\nIt is widely deployed within Google as the storage platform\\nfor the generation and processing of data used by our ser-\\nvice as well as research and development eﬀorts that require\\nlarge data sets. The largest cluster to date provides hun-\\ndreds of terabytes of storage across thousands of disks on\\nover a thousand machines, and it is concurrently accessed\\nby hundreds of clients.\\nIn this paper, we present ﬁle system interface extensions\\ndesigned to support distributed applications, discuss many\\naspects of our design, and report measurements from both\\nmicro-benchmarks and real world use.\\nCategories and Subject Descriptors\\nD [4]: 3—Distributed ﬁle systems\\nGeneral Terms\\nDesign, reliability, performance, measurement\\nKeywords\\nFault tolerance, scalability, data storage, clustered storage\\n∗The authors can be reached at the following addresses:\\n{sanjay,hgobioﬀ,shuntak}@google.com.\\nPermission to make digital or hard copies of all or part of this work for\\npersonal or classroom use is granted without fee provided that copies are\\nnot made or distributed for proﬁt or commercial advantage and that copies')"
      ]
     },
     "execution_count": 35,
     "metadata": {},
     "output_type": "execute_result"
    }
   ],
   "source": [
    "splits[0]"
   ]
  },
  {
   "cell_type": "code",
   "execution_count": 33,
   "metadata": {},
   "outputs": [],
   "source": [
    "# Initialize Azure Search db constants\n",
    "VECTOR_STORE_ADDR = os.environ.get(\"VECTOR_STORE_ADDR\")\n",
    "VECTOR_STORE_PASS = os.environ.get(\"VECTOR_STORE_PASS\")\n",
    "# Initialize Azure Open AI constants\n",
    "AZURE_AI_ENDPOINT = os.environ.get(\"AZURE_AI_ENDPOINT\")\n",
    "AZURE_AI_KEY = os.environ.get(\"AZURE_AI_KEY\")\n",
    "OPENAI_MODEL_NAME = os.environ.get(\"OPENAI_MODEL_NAME\")\n",
    "OPENAI_VERSION = os.environ.get(\"OPENAI_VERSION\")\n",
    "OPENAI_EMBED_MODEL_NAME = os.environ.get(\"OPENAI_EMBED_MODEL_NAME\")"
   ]
  },
  {
   "cell_type": "code",
   "execution_count": 38,
   "metadata": {},
   "outputs": [],
   "source": [
    "from azure.search.documents.indexes.models import (\n",
    "    SearchableField,\n",
    "    SearchField,\n",
    "    SearchFieldDataType,\n",
    "    SimpleField,\n",
    ")\n",
    "from langchain_openai import AzureOpenAIEmbeddings\n",
    "\n",
    "embeddings = AzureOpenAIEmbeddings(\n",
    "    azure_deployment=OPENAI_EMBED_MODEL_NAME,\n",
    "    azure_endpoint=AZURE_AI_ENDPOINT,\n",
    "    api_version=OPENAI_VERSION,\n",
    "    api_key=AZURE_AI_KEY\n",
    ")"
   ]
  },
  {
   "cell_type": "code",
   "execution_count": null,
   "metadata": {},
   "outputs": [],
   "source": [
    "fields = [\n",
    "    SimpleField(\n",
    "        name=\"id\",\n",
    "        type=SearchFieldDataType.String,\n",
    "        key=True,\n",
    "        filterable=True,\n",
    "    ),\n",
    "    SearchableField(\n",
    "        name=\"content\",\n",
    "        type=SearchFieldDataType.String,\n",
    "        searchable=True,\n",
    "    ),\n",
    "    SearchField(\n",
    "        name=\"content_vector\",\n",
    "        type=SearchFieldDataType.Collection(SearchFieldDataType.Single),\n",
    "        searchable=True,\n",
    "        vector_search_dimensions=len(embeddings.embed_query(\"Text\")),\n",
    "        vector_search_profile_name=\"myHnswProfile\",\n",
    "    ),\n",
    "    SearchableField(\n",
    "        name=\"metadata\",\n",
    "        type=SearchFieldDataType.String,\n",
    "        searchable=True,\n",
    "    ),\n",
    "    # Additional field to store the title\n",
    "    SearchableField(\n",
    "        name=\"source\",\n",
    "        type=SearchFieldDataType.String,\n",
    "        searchable=True,\n",
    "    ),\n",
    "    SearchableField(\n",
    "        name=\"page\",\n",
    "        type=SearchFieldDataType.Int32,\n",
    "        searchable=True\n",
    "    )\n",
    "]"
   ]
  },
  {
   "cell_type": "code",
   "execution_count": null,
   "metadata": {},
   "outputs": [],
   "source": []
  }
 ],
 "metadata": {
  "kernelspec": {
   "display_name": ".venv",
   "language": "python",
   "name": "python3"
  },
  "language_info": {
   "codemirror_mode": {
    "name": "ipython",
    "version": 3
   },
   "file_extension": ".py",
   "mimetype": "text/x-python",
   "name": "python",
   "nbconvert_exporter": "python",
   "pygments_lexer": "ipython3",
   "version": "3.12.6"
  }
 },
 "nbformat": 4,
 "nbformat_minor": 2
}
